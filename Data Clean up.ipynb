{
 "cells": [
  {
   "cell_type": "code",
   "execution_count": null,
   "metadata": {},
   "outputs": [],
   "source": [
    "#Clean notebook for data clean up explantions"
   ]
  },
  {
   "cell_type": "code",
   "execution_count": null,
   "metadata": {},
   "outputs": [],
   "source": [
    "#imported our Dependancies as needed\n",
    "import pandas as pd\n",
    "import matplotlib.pyplot as plt\n",
    "import scipy.stats as st\n",
    "from scipy.stats import linregress\n",
    "import numpy as np\n",
    "import requests\n",
    "import json\n",
    "import datetime as dt\n",
    "\n",
    "#Importing CSV files found online\n",
    "#https://data.world/liz-friedman/us-covid-19-data-from-nytimes\n",
    "#https://data.world/qventus/covid-19-localized-scenario-planner\n",
    "state_lockdown_file = pd.read_csv(\"data_sources/lockdown_us.csv\")\n",
    "state_deaths_cases_file = pd.read_csv(\"data_sources/liz-friedman-us-covid-19-data-from-nytimes/us-states.csv\")\n",
    "county_population_file = pd.read_csv(\"data_sources/qventus-covid-19-localized-scenario-planner/qventus-covid-19-localized-scenario-planner/covid_county_population_usafacts.csv\")"
   ]
  },
  {
   "cell_type": "code",
   "execution_count": null,
   "metadata": {},
   "outputs": [],
   "source": [
    "#URL pulls state data just for the current or last weekday reported\n",
    "url = \"https://api.covidtracking.com/v1/states/current.json\"\n",
    "state_current_data = (requests.get(url)).json()\n",
    "#Creating dataframe form api request\n",
    "state_current_data=pd.DataFrame(state_current_data)\n",
    "#date format is yyyymmdd this line changes to yyyy-mm-dd\n",
    "state_current_data['date'] = pd.to_datetime(state_current_data['date'], format='%Y%m%d')"
   ]
  },
  {
   "cell_type": "code",
   "execution_count": null,
   "metadata": {},
   "outputs": [],
   "source": [
    "#URL pulls collection of all states current data from previous dates\n",
    "url = \"https://api.covidtracking.com/v1/states/daily.json\"\n",
    "state_daily_data = (requests.get(url)).json()\n",
    "\n",
    "#Creating dataframe form API request\n",
    "state_daily_data=pd.DataFrame(state_daily_data)\n",
    "\n",
    "#date format is yyyymmdd this line changes to yyyy-mm-dd\n",
    "#Used later in adding specific cloumns for \"Month\" and \"Day\" for sorting data by timeframe\n",
    "state_daily_data['date'] = pd.to_datetime(state_daily_data['date'], format='%Y%m%d')\n",
    "\n",
    "#Dropping US Territories from state list\n",
    "state_daily_data = state_daily_data.set_index(\"state\")\n",
    "state_daily_data = state_daily_data.drop([\"AS\",\"GU\",\"MP\",\"PR\", \"VI\",\"DC\"])\n",
    "state_daily_data = state_daily_data.reset_index()\n",
    "\n",
    "#loop for summing for total state cases\n",
    "states = state_daily_data[\"state\"].unique()\n",
    "total_cases_by_state = []\n",
    "\n",
    "for state in states:\n",
    "    state_case = state_daily_data.loc[state_daily_data[\"state\"] == state]\n",
    "    total_cases_by_state.append(state_case[\"positive\"].sum())\n"
   ]
  },
  {
   "cell_type": "code",
   "execution_count": null,
   "metadata": {},
   "outputs": [],
   "source": [
    "#loop for finding positive rate per month\n",
    "#Positive cases per month / total of positive and negitive test results\n",
    "months = [1,2,3,4,5,6,7,8]\n",
    "positive_rates = []\n",
    "state_list = []\n",
    "month_list = []\n",
    "\n",
    "for state in states:\n",
    "    \n",
    "    single_state = state_daily_data.loc[state_daily_data[\"state\"] == state]\n",
    "    single_state['date'] = pd.to_datetime(single_state['date'], format='%Y%m%d')    \n",
    "    single_state = single_state.sort_values(\"date\")\n",
    "    single_state['month'] = pd.DatetimeIndex(single_state['date']).month\n",
    "    single_state['day'] = pd.DatetimeIndex(single_state['date']).day\n",
    "    for month in months:\n",
    "        print(state)\n",
    "        try:\n",
    "            single_month = single_state.loc[single_state[\"month\"] == month]\n",
    "            single_month = single_month.reset_index()\n",
    "            first_row = single_month.iloc[0]\n",
    "            last_row = single_month.iloc[-1]\n",
    "            month_pos = int(last_row[\"positive\"]) - int(first_row[\"positive\"])\n",
    "            month_tot = int(last_row[\"posNeg\"]) - int(first_row[\"posNeg\"])\n",
    "            positive_rate = month_pos / month_tot\n",
    "            positive_rate = \"{:.2%}\".format(positive_rate)\n",
    "            positive_rates.append(positive_rate)\n",
    "            state_list.append(state)\n",
    "            month_list.append(month)\n",
    "            \n",
    "            \n",
    "        except IndexError:\n",
    "            #some states had no cases in the first 2 months\n",
    "            print(\"no data for this month\")\n",
    "        except ValueError:\n",
    "            #New Jersey had had values of NaN causing a value error\n",
    "            print(\"value issue\")\n",
    "        except ZeroDivisionError:\n",
    "            #Washington first month total comes out to 0 causing a division by zero error\n",
    "            print(\"month total = 0\")"
   ]
  },
  {
   "cell_type": "code",
   "execution_count": null,
   "metadata": {},
   "outputs": [],
   "source": [
    "#Dataframe created from above loop\n",
    "pos_rates_df = pd.DataFrame({\n",
    "    \"State\": state_list,\n",
    "    \"Positive Rate\": positive_rates,\n",
    "    \"Month\": month_list\n",
    "})"
   ]
  },
  {
   "cell_type": "code",
   "execution_count": null,
   "metadata": {},
   "outputs": [],
   "source": [
    "#States total population by summing all counties population\n",
    "state_pop = []\n",
    "states = county_population_file[\"State\"].unique()\n",
    "\n",
    "for state in states:\n",
    "    state_df = county_population_file.loc[county_population_file[\"State\"] == state]\n",
    "    state_pop.append(state_df[\"population\"].sum())\n",
    "    \n",
    "population_df = pd.DataFrame({\n",
    "    \"state\": states,\n",
    "    \"population\": state_pop\n",
    "})"
   ]
  },
  {
   "cell_type": "code",
   "execution_count": null,
   "metadata": {},
   "outputs": [],
   "source": [
    "#State deaths cases data imported from sources folder\n",
    "state_deaths_cases_file.head()\n",
    "\n",
    "#Sorting alphabetically by state\n",
    "state_deaths_cases_file = state_deaths_cases_file.rename(columns={\"state\":\"State\"})\n",
    "state_deaths_cases_file = state_deaths_cases_file.sort_values(\"State\")\n",
    "\n",
    "#Breaking down date into a month and day column for easier filtering by month\n",
    "state_deaths_cases_file['month'] = pd.DatetimeIndex(state_deaths_cases_file['date']).month\n",
    "state_deaths_cases_file['day'] = pd.DatetimeIndex(state_deaths_cases_file['date']).day\n",
    "\n",
    "#Dropping any empty rows from dataframe\n",
    "state_deaths_cases_file = state_deaths_cases_file.dropna()\n",
    "state_deaths_cases_file = state_deaths_cases_file.set_index(\"State\")\n",
    "state_deaths_cases_file.head()"
   ]
  },
  {
   "cell_type": "code",
   "execution_count": null,
   "metadata": {},
   "outputs": [],
   "source": [
    "#Looking at specific state data for states according to lockdown\n",
    "positive_closings = state_deaths_cases_file.loc[[\"California\",\"Florida\",\"New York\", \n",
    "                                                \"Kansas\",\"Texas\",\"Washington\"],\n",
    "                                                [\"date\",\"cases\",\"month\"]]\n",
    "positive_closings = positive_closings.sort_values(\"date\")\n",
    "positive_closings.head()"
   ]
  },
  {
   "cell_type": "code",
   "execution_count": null,
   "metadata": {},
   "outputs": [],
   "source": [
    "#Pulling data from specific state prior to the decsion to lock down.\n",
    "#once data is pulled cases are summed up for each month\n",
    "california = positive_closings.loc[\"California\"]\n",
    "cali_closings = california.loc[(california[\"date\"] >= \"2020-03-19\"),:]\n",
    "cali_closings = california.loc[(california[\"date\"] <= \"2020-05-12\"),:]\n",
    "cali_closings = cali_closings.groupby(by=[\"month\"]).agg(sum)\n",
    "\n",
    "kansas = positive_closings.loc[\"Kansas\"]\n",
    "ks_closings = kansas.loc[(kansas[\"date\"]>= \"2020-04-19\"),:]\n",
    "ks_closings = kansas.loc[(kansas[\"date\"]<= \"2020-05-03\"),:]\n",
    "ks_closings = ks_closings.groupby(by=[\"month\"]).agg(sum)\n",
    "\n",
    "florida = positive_closings.loc[\"Florida\"]\n",
    "fl_closings = florida.loc[(florida[\"date\"]>= \"2020-04-03\"),:]\n",
    "fl_closings = florida.loc[(florida[\"date\"]<= \"2020-04-30\"),:]\n",
    "fl_closings = fl_closings.groupby(by=[\"month\"]).agg(sum)\n",
    "\n",
    "new_york = positive_closings.loc[\"New York\"]\n",
    "ny_closings = new_york.loc[(new_york[\"date\"]>= \"2020-03-22\"),:]\n",
    "ny_closings = new_york.loc[(new_york[\"date\"]<= \"2020-05-15\"),:]\n",
    "ny_closings = ny_closings.groupby(by=[\"month\"]).agg(sum)\n",
    "\n",
    "washington = positive_closings.loc[\"Washington\"]\n",
    "wa_closings = washington.loc[(washington[\"date\"]>= \"2020-03-23\"),:]\n",
    "wa_closings = washington.loc[(washington[\"date\"]<= \"2020-05-04\"),:]\n",
    "wa_closings = wa_closings.groupby(by=[\"month\"]).agg(sum)\n",
    "\n",
    "texas = positive_closings.loc[\"Texas\"]\n",
    "tx_closings = texas.loc[(texas[\"date\"]>= \"2020-04-02\"),:]\n",
    "tx_closings = texas.loc[(texas[\"date\"]<= \"2020-04-30\"),:]\n",
    "tx_closings = tx_closings.groupby(by=[\"month\"]).agg(sum)"
   ]
  },
  {
   "cell_type": "code",
   "execution_count": null,
   "metadata": {},
   "outputs": [],
   "source": [
    "#Sorting by states Re-open dates.  Data after the reopen is summed up to show total each month.\n",
    "cali_reo = california.loc[(california[\"date\"] >= \"2020-05-12\"),:]\n",
    "cali_reo = cali_reo.groupby(by=[\"month\"]).agg(sum)\n",
    "\n",
    "ks_reo = kansas.loc[(kansas[\"date\"]>= \"2020-05-03\"),:]\n",
    "ks_reo = ks_reo.groupby(by=[\"month\"]).agg(sum)\n",
    "\n",
    "fl_reo = florida.loc[(florida[\"date\"]>= \"2020-04-30\"),:]\n",
    "fl_reo = fl_reo.groupby(by=[\"month\"]).agg(sum)\n",
    "\n",
    "ny_reo = new_york.loc[(new_york[\"date\"]>= \"2020-05-15\"),:]\n",
    "ny_reo = ny_reo.groupby(by=[\"month\"]).agg(sum)\n",
    "\n",
    "wa_reo = washington.loc[(washington[\"date\"]>= \"2020-05-04\"),:]\n",
    "wa_reo = wa_reo.groupby(by=[\"month\"]).agg(sum)\n",
    "\n",
    "tx_reo = texas.loc[(texas[\"date\"]>= \"2020-04-30\"),:]\n",
    "tx_reo = tx_reo.groupby(by=[\"month\"]).agg(sum)"
   ]
  },
  {
   "cell_type": "code",
   "execution_count": null,
   "metadata": {},
   "outputs": [],
   "source": [
    "#Looking specifically at Kansas's deaths over time\n",
    "ks_data = first_state_deaths_cases_file.loc[[\"Kansas\"],[\"date\",\"deaths\"]]\n",
    "ks_data=ks_data.sort_values(\"deaths\")"
   ]
  },
  {
   "cell_type": "code",
   "execution_count": null,
   "metadata": {},
   "outputs": [],
   "source": [
    "#Removing some of the counties listed and the types of stay at home/shelter in place\n",
    "#\n",
    "\n",
    "state_lockdown_file['month'] = pd.DatetimeIndex(state_lockdown_file['Date']).month\n",
    "state_lockdown_file['day'] = pd.DatetimeIndex(state_lockdown_file['Date']).day\n",
    "\n",
    "state_lockdown_file"
   ]
  },
  {
   "cell_type": "code",
   "execution_count": null,
   "metadata": {},
   "outputs": [],
   "source": [
    "#Takeing data from the State current API\n",
    "state_current_narrow = state_current_data[[\"state\",\"positive\",\"death\",\"hospitalized\"]]\n",
    "state_current_drop = state_current_narrow.dropna()\n",
    "state_current_drop\n",
    "state_current_drop = state_current_drop.set_index('state')\n",
    "state_current_drop\n",
    "\n",
    "#Merging with the state population dataframe to compair positive cases and deaths with state total population\n",
    "state_current_df = pd.merge(state_current_drop, population_df, on='state')\n",
    "state_current_df.head()"
   ]
  },
  {
   "cell_type": "code",
   "execution_count": null,
   "metadata": {},
   "outputs": [],
   "source": [
    "#Pulling specific states data from the merged dataframe above\n",
    "special_states_data = state_current_drop.loc[[\"AZ\",\"FL\",\"KS\",\"NY\",\"WA\",\"WI\"],[\"death\",\"hospitalized\"]]\n",
    "special_states_data"
   ]
  },
  {
   "cell_type": "code",
   "execution_count": null,
   "metadata": {},
   "outputs": [],
   "source": [
    "#Making a new dataframe of 5 states with early lockdown date\n",
    "states_early_lock = state_current_drop.loc[[\"KY\",\"MA\",\"NY\",\"WA\",\"WI\"],[\"death\",\"hospitalized\"]]\n",
    "states_early_lock\n",
    "\n",
    "#Making dataframe of 5 states with a late lockdown date\n",
    "states_late_lock = state_current_drop.loc[[\"FL\",\"GA\",\"KS\",\"SC\",\"AZ\"],[\"death\",\"hospitalized\"]]\n",
    "states_late_lock"
   ]
  },
  {
   "cell_type": "code",
   "execution_count": null,
   "metadata": {},
   "outputs": [],
   "source": [
    "#Selection of states for having summer tourist attractions\n",
    "#to see if cases increased during summer months\n",
    "summer_fun = state_deaths_cases_file.loc[[\"California\",\"Florida\",\"Hawaii\",\n",
    "                                                \"Missouri\",\"Texas\",\"Nevada\"],\n",
    "                                                [\"date\",\"cases\",\"month\"]]"
   ]
  }
 ],
 "metadata": {
  "kernelspec": {
   "display_name": "Python 3",
   "language": "python",
   "name": "python3"
  },
  "language_info": {
   "codemirror_mode": {
    "name": "ipython",
    "version": 3
   },
   "file_extension": ".py",
   "mimetype": "text/x-python",
   "name": "python",
   "nbconvert_exporter": "python",
   "pygments_lexer": "ipython3",
   "version": "3.7.6"
  }
 },
 "nbformat": 4,
 "nbformat_minor": 4
}
