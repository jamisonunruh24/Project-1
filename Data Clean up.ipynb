{
 "cells": [
  {
   "cell_type": "code",
   "execution_count": null,
   "metadata": {},
   "outputs": [],
   "source": [
    "#Clean notebook for data clean up explantions"
   ]
  },
  {
   "cell_type": "code",
   "execution_count": null,
   "metadata": {},
   "outputs": [],
   "source": [
    "#imported our Dependancies as needed\n",
    "import pandas as pd\n",
    "import matplotlib.pyplot as plt\n",
    "import scipy.stats as st\n",
    "from scipy.stats import linregress\n",
    "import numpy as np\n",
    "import requests\n",
    "import json\n",
    "import datetime as dt\n",
    "\n",
    "#Importing CSV files found online\n",
    "state_lockdown_file = pd.read_csv(\"data_sources/lockdown_us.csv\")\n",
    "state_deaths_cases_file = pd.read_csv(\"data_sources/liz-friedman-us-covid-19-data-from-nytimes/us-states.csv\")\n",
    "county_population_file = pd.read_csv(\"data_sources/qventus-covid-19-localized-scenario-planner/qventus-covid-19-localized-scenario-planner/covid_county_population_usafacts.csv\")"
   ]
  },
  {
   "cell_type": "code",
   "execution_count": null,
   "metadata": {},
   "outputs": [],
   "source": [
    "#URL pulls state data just for the current or last weekday reported\n",
    "url = \"https://api.covidtracking.com/v1/states/current.json\"\n",
    "state_current_data = (requests.get(url)).json()\n",
    "#Creating dataframe form api request\n",
    "state_current_data=pd.DataFrame(state_current_data)\n",
    "#date format is yyyymmdd this line changes to yyyy-mm-dd\n",
    "state_current_data['date'] = pd.to_datetime(state_current_data['date'], format='%Y%m%d')"
   ]
  },
  {
   "cell_type": "code",
   "execution_count": null,
   "metadata": {},
   "outputs": [],
   "source": [
    "#URL pulls collection of all states current data from past dates\n",
    "url = \"https://api.covidtracking.com/v1/states/daily.json\"\n",
    "state_daily_data = (requests.get(url)).json()\n",
    "\n",
    "#Creating dataframe form api request\n",
    "state_daily_data=pd.DataFrame(state_daily_data)\n",
    "\n",
    "#date format is yyyymmdd this line changes to yyyy-mm-dd\n",
    "state_daily_data['date'] = pd.to_datetime(state_daily_data['date'], format='%Y%m%d')\n",
    "\n",
    "#Dropping US Territories from state list\n",
    "state_daily_data = state_daily_data.set_index(\"state\")\n",
    "state_daily_data = state_daily_data.drop([\"AS\",\"GU\",\"MP\",\"PR\", \"VI\",\"DC\"])\n",
    "state_daily_data = state_daily_data.reset_index()\n",
    "\n",
    "#loop for summing for total state cases\n",
    "states = state_daily_data[\"state\"].unique()\n",
    "total_cases_by_state = []\n",
    "\n",
    "for state in states:\n",
    "    state_case = state_daily_data.loc[state_daily_data[\"state\"] == state]\n",
    "    total_cases_by_state.append(state_case[\"positive\"].sum())\n"
   ]
  },
  {
   "cell_type": "code",
   "execution_count": null,
   "metadata": {},
   "outputs": [],
   "source": [
    "#loop for finding positive rate per month\n",
    "\n",
    "months = [1,2,3,4,5,6,7,8]\n",
    "positive_rates = []\n",
    "state_list = []\n",
    "month_list = []\n",
    "\n",
    "for state in states:\n",
    "    \n",
    "    single_state = state_daily_data.loc[state_daily_data[\"state\"] == state]\n",
    "    single_state['date'] = pd.to_datetime(single_state['date'], format='%Y%m%d')    \n",
    "    single_state = single_state.sort_values(\"date\")\n",
    "    single_state['month'] = pd.DatetimeIndex(single_state['date']).month\n",
    "    single_state['day'] = pd.DatetimeIndex(single_state['date']).day\n",
    "    for month in months:\n",
    "        print(state)\n",
    "        try:\n",
    "            single_month = single_state.loc[single_state[\"month\"] == month]\n",
    "            single_month = single_month.reset_index()\n",
    "            first_row = single_month.iloc[0]\n",
    "            last_row = single_month.iloc[-1]\n",
    "            month_pos = int(last_row[\"positive\"]) - int(first_row[\"positive\"])\n",
    "            month_tot = int(last_row[\"posNeg\"]) - int(first_row[\"posNeg\"])\n",
    "            positive_rate = month_pos / month_tot\n",
    "            positive_rate = \"{:.2%}\".format(positive_rate)\n",
    "            positive_rates.append(positive_rate)\n",
    "            state_list.append(state)\n",
    "            month_list.append(month)\n",
    "            \n",
    "            \n",
    "        except IndexError:\n",
    "            #some states had no cases in the first 2 months\n",
    "            print(\"no data for this month\")\n",
    "        except ValueError:\n",
    "            #New Jersey had had values of NaN causing a value error\n",
    "            print(\"value issue\")\n",
    "        except ZeroDivisionError:\n",
    "            #Washington first month total comes out to 0 causing a division by zero error\n",
    "            print(\"month total = 0\")"
   ]
  },
  {
   "cell_type": "code",
   "execution_count": null,
   "metadata": {},
   "outputs": [],
   "source": [
    "#Dataframe created from above loop\n",
    "pos_rates_df = pd.DataFrame({\n",
    "    \"State\": state_list,\n",
    "    \"Positive Rate\": positive_rates,\n",
    "    \"Month\": month_list\n",
    "})"
   ]
  },
  {
   "cell_type": "code",
   "execution_count": null,
   "metadata": {},
   "outputs": [],
   "source": [
    "#States total population by summing all counties population\n",
    "state_pop = []\n",
    "states = county_population_file[\"State\"].unique()\n",
    "\n",
    "for state in states:\n",
    "    state_df = county_population_file.loc[county_population_file[\"State\"] == state]\n",
    "    state_pop.append(state_df[\"population\"].sum())\n",
    "    \n",
    "population_df = pd.DataFrame({\n",
    "    \"state\": states,\n",
    "    \"population\": state_pop\n",
    "})"
   ]
  },
  {
   "cell_type": "code",
   "execution_count": null,
   "metadata": {},
   "outputs": [],
   "source": []
  }
 ],
 "metadata": {
  "kernelspec": {
   "display_name": "Python 3",
   "language": "python",
   "name": "python3"
  },
  "language_info": {
   "codemirror_mode": {
    "name": "ipython",
    "version": 3
   },
   "file_extension": ".py",
   "mimetype": "text/x-python",
   "name": "python",
   "nbconvert_exporter": "python",
   "pygments_lexer": "ipython3",
   "version": "3.7.6"
  }
 },
 "nbformat": 4,
 "nbformat_minor": 4
}
